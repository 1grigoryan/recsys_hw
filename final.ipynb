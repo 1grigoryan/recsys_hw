{
 "cells": [
  {
   "cell_type": "code",
   "execution_count": 1,
   "id": "e8fc9c15-abd1-4c36-89f3-8c2325e231ce",
   "metadata": {},
   "outputs": [
    {
     "name": "stdout",
     "output_type": "stream",
     "text": [
      "time: 1.64 s (started: 2024-10-26 02:07:04 +07:00)\n"
     ]
    }
   ],
   "source": [
    "import warnings\n",
    "warnings.filterwarnings('ignore')\n",
    "\n",
    "%load_ext autotime\n",
    "\n",
    "import pandas as pd\n",
    "import numpy as np\n",
    "import matplotlib.pyplot as plt\n",
    "import seaborn as sns\n",
    "import scipy\n",
    "\n",
    "import random\n",
    "\n",
    "from sklearn.model_selection import train_test_split, cross_val_score, cross_validate\n",
    "from sklearn.feature_selection import SelectFromModel\n",
    "from sklearn.metrics import recall_score, f1_score\n",
    "from scipy.sparse import csr_matrix\n",
    "\n",
    "from implicit.als import AlternatingLeastSquares\n",
    "\n",
    "from surprise import Dataset, Reader\n",
    "import surprise.model_selection\n",
    "#from surprise.model_selection import cross_validate, GridSearchCV\n",
    "from surprise.prediction_algorithms import SVD, SVDpp, KNNBasic, KNNBaseline\n",
    "\n",
    "from catboost import CatBoostClassifier, CatBoostRanker, Pool\n",
    "\n",
    "from lightfm import LightFM\n",
    "from lightfm.evaluation import precision_at_k, recall_at_k\n",
    "\n",
    "from tqdm import tqdm\n",
    "\n",
    "import itertools\n",
    "\n",
    "import optuna"
   ]
  },
  {
   "cell_type": "markdown",
   "id": "47852a2f-f735-4117-a8c1-964630ad7052",
   "metadata": {},
   "source": [
    "# Читаем данные и создаем датасет"
   ]
  },
  {
   "cell_type": "markdown",
   "id": "ac3a6275-7bcc-4f19-842c-c2455f304dab",
   "metadata": {},
   "source": [
    "Для начала просто прочитаем данные и создадим выборку с позитивным и негативным сэмплингом:"
   ]
  },
  {
   "cell_type": "code",
   "execution_count": 2,
   "id": "fd5100f4-2e9d-46c2-87d1-4ff3205c9762",
   "metadata": {},
   "outputs": [
    {
     "name": "stdout",
     "output_type": "stream",
     "text": [
      "time: 144 ms (started: 2024-10-26 02:07:05 +07:00)\n"
     ]
    }
   ],
   "source": [
    "events = pd.read_csv('events.csv')\n",
    "item_features = pd.read_csv('item_features.csv')\n",
    "user_features = pd.read_csv('user_features.csv')\n",
    "ss = pd.read_csv('submission_sample.csv')"
   ]
  },
  {
   "cell_type": "code",
   "execution_count": 3,
   "id": "608779ae-65a4-47f4-8f7d-1a12e84e6ecb",
   "metadata": {},
   "outputs": [
    {
     "name": "stdout",
     "output_type": "stream",
     "text": [
      "time: 540 ms (started: 2024-10-26 02:07:05 +07:00)\n"
     ]
    }
   ],
   "source": [
    "pos_sample = events[['user_id', 'item_id']].groupby('user_id', as_index = False).apply(lambda x: x.tail(3)).reset_index(drop = True)"
   ]
  },
  {
   "cell_type": "code",
   "execution_count": 4,
   "id": "2f09e5bd-a6eb-4761-a2ef-3a4fb3dbd320",
   "metadata": {},
   "outputs": [
    {
     "name": "stdout",
     "output_type": "stream",
     "text": [
      "time: 1min 2s (started: 2024-10-26 02:07:06 +07:00)\n"
     ]
    }
   ],
   "source": [
    "item_ids = item_features.item_id.values\n",
    "user_ids = user_features.user_id.values\n",
    "combinations = list(itertools.product(user_ids, item_ids))\n",
    "all_users_items = pd.DataFrame(combinations, columns=['user_id', 'item_id'])\n",
    "all_users_items = all_users_items.merge(events[['user_id', 'item_id', 'rating']], how = 'left', on = ['user_id', 'item_id'])"
   ]
  },
  {
   "cell_type": "code",
   "execution_count": 5,
   "id": "0a70fb67-17ec-41d7-9440-cb202bce72ac",
   "metadata": {},
   "outputs": [
    {
     "name": "stdout",
     "output_type": "stream",
     "text": [
      "time: 522 ms (started: 2024-10-26 02:08:08 +07:00)\n"
     ]
    }
   ],
   "source": [
    "all_negative_items = all_users_items[all_users_items['rating'].isna()][['user_id', 'item_id']]"
   ]
  },
  {
   "cell_type": "code",
   "execution_count": 6,
   "id": "d8a92807-afa8-4110-b261-d4c480bba5d9",
   "metadata": {},
   "outputs": [
    {
     "name": "stdout",
     "output_type": "stream",
     "text": [
      "time: 2.14 s (started: 2024-10-26 02:08:09 +07:00)\n"
     ]
    }
   ],
   "source": [
    "neg_sample = all_negative_items.groupby('user_id', as_index = False).sample(100, random_state=29)"
   ]
  },
  {
   "cell_type": "code",
   "execution_count": 7,
   "id": "9eb0a753-7885-42a6-8a68-b9c34bd8f589",
   "metadata": {},
   "outputs": [
    {
     "name": "stdout",
     "output_type": "stream",
     "text": [
      "time: 107 ms (started: 2024-10-26 02:08:11 +07:00)\n"
     ]
    }
   ],
   "source": [
    "pos_sample['target'] = 1\n",
    "neg_sample['target'] = 0\n",
    "sample = pd.concat([pos_sample, neg_sample])\n",
    "sample = sample.sort_values(['user_id', 'item_id'])"
   ]
  },
  {
   "cell_type": "code",
   "execution_count": 8,
   "id": "80035fb7-a86c-4864-9b70-b47e76975271",
   "metadata": {},
   "outputs": [
    {
     "name": "stdout",
     "output_type": "stream",
     "text": [
      "time: 10.4 ms (started: 2024-10-26 02:08:11 +07:00)\n"
     ]
    }
   ],
   "source": [
    "user_new_features = pd.DataFrame([])\n",
    "user_new_features['user_id'] = np.arange(6040)\n",
    "user_new_features['num_of_items'] = events.user_id.value_counts().sort_index().values"
   ]
  },
  {
   "cell_type": "markdown",
   "id": "e9e837a4-c1b8-4a82-8326-04a1bed91e62",
   "metadata": {},
   "source": [
    "Тут создаем новые фичи: \n",
    "- количество просмотренных фильмов\n",
    "- топ-3 три любимых жанра (сама фича будет выглядеть как \"Принадлежит ли айтем к этому жанру\")\n",
    "- доля просмотров топ-3 жанров\n",
    "- рейтинг фильма средний"
   ]
  },
  {
   "cell_type": "code",
   "execution_count": 9,
   "id": "a75f8f3d-23a0-496f-9f85-ee4e51c89ab3",
   "metadata": {},
   "outputs": [
    {
     "name": "stderr",
     "output_type": "stream",
     "text": [
      "100%|██████████| 6040/6040 [00:04<00:00, 1280.66it/s]"
     ]
    },
    {
     "name": "stdout",
     "output_type": "stream",
     "text": [
      "time: 4.88 s (started: 2024-10-26 02:08:11 +07:00)\n"
     ]
    },
    {
     "name": "stderr",
     "output_type": "stream",
     "text": [
      "\n"
     ]
    }
   ],
   "source": [
    "events_plus_items = events.merge(item_features, how = 'left', on = 'item_id')\n",
    "a = []\n",
    "b = []\n",
    "for user_id in tqdm(np.arange(6040)):\n",
    "    sliced = events_plus_items[events_plus_items['user_id'] == user_id].mean()[4:].sort_values(ascending = False)[:3]\n",
    "    v1, v2 = sliced.values.tolist(), sliced.index.tolist()\n",
    "    a.append(v1)\n",
    "    b.append(v2)"
   ]
  },
  {
   "cell_type": "code",
   "execution_count": 10,
   "id": "4b61f4d9-0f73-4d02-a6cd-88f12db81a22",
   "metadata": {},
   "outputs": [
    {
     "name": "stdout",
     "output_type": "stream",
     "text": [
      "time: 12.5 ms (started: 2024-10-26 02:08:16 +07:00)\n"
     ]
    }
   ],
   "source": [
    "user_new_features[['fav_genre1', 'fav_genre2', 'fav_genre3']] = b\n",
    "user_new_features[['fav_genre_share1', 'fav_genre_share2', 'fav_genre_share3']] = a"
   ]
  },
  {
   "cell_type": "code",
   "execution_count": 11,
   "id": "e1cfb5c9-fa17-470a-b306-42345f61e39a",
   "metadata": {},
   "outputs": [
    {
     "name": "stdout",
     "output_type": "stream",
     "text": [
      "time: 30.2 ms (started: 2024-10-26 02:08:16 +07:00)\n"
     ]
    }
   ],
   "source": [
    "ratings = events[['item_id', 'rating']].groupby('item_id', as_index = False).mean()\n",
    "ratings.columns = ['item_id', 'item_rating']"
   ]
  },
  {
   "cell_type": "code",
   "execution_count": 12,
   "id": "f8eb1cb5-d972-4ac2-a16d-012aa5f4e7e9",
   "metadata": {},
   "outputs": [
    {
     "name": "stdout",
     "output_type": "stream",
     "text": [
      "time: 443 ms (started: 2024-10-26 02:08:16 +07:00)\n"
     ]
    }
   ],
   "source": [
    "sample = sample.merge(ratings, how = 'left', on = 'item_id')\n",
    "sample = sample.merge(user_new_features, how = 'left', on = 'user_id')\n",
    "sample = sample.merge(item_features, how = 'left', on = 'item_id')\n",
    "sample = sample.merge(user_features, how = 'left', on = 'user_id')"
   ]
  },
  {
   "cell_type": "code",
   "execution_count": 13,
   "id": "dd45af33-a875-41b6-a577-b88f07446d3e",
   "metadata": {},
   "outputs": [
    {
     "name": "stderr",
     "output_type": "stream",
     "text": [
      "100%|██████████| 6040/6040 [00:04<00:00, 1300.33it/s]"
     ]
    },
    {
     "name": "stdout",
     "output_type": "stream",
     "text": [
      "time: 4.65 s (started: 2024-10-26 02:08:16 +07:00)\n"
     ]
    },
    {
     "name": "stderr",
     "output_type": "stream",
     "text": [
      "\n"
     ]
    }
   ],
   "source": [
    "g1_arr, g2_arr, g3_arr = [], [], []\n",
    "for user_id in tqdm(np.arange(6040)):\n",
    "    sliced = sample[sample['user_id'] == user_id]\n",
    "    if len(sliced) > 0:\n",
    "        g1, g2, g3 = user_new_features[user_new_features['user_id'] == user_id][['fav_genre1', 'fav_genre2', 'fav_genre3']].values[0]\n",
    "        g1_arr.append(sliced[g1].values.tolist())\n",
    "        g2_arr.append(sliced[g2].values.tolist())\n",
    "        g3_arr.append(sliced[g3].values.tolist())\n",
    "    else:\n",
    "        print('No user_id info')"
   ]
  },
  {
   "cell_type": "code",
   "execution_count": 14,
   "id": "1f5185ca-f7d2-46a5-8b1b-c2d25a79d065",
   "metadata": {},
   "outputs": [
    {
     "name": "stdout",
     "output_type": "stream",
     "text": [
      "time: 352 ms (started: 2024-10-26 02:08:21 +07:00)\n"
     ]
    }
   ],
   "source": [
    "# Создаем флаги принадлежности айтема к любимым жанрам\n",
    "sample['is_fav_genre1'] = list(itertools.chain(*g1_arr))\n",
    "sample['is_fav_genre2'] = list(itertools.chain(*g2_arr))\n",
    "sample['is_fav_genre3'] = list(itertools.chain(*g3_arr))"
   ]
  },
  {
   "cell_type": "code",
   "execution_count": 15,
   "id": "02d9e905-cd12-46cd-bcc6-19becc1ca5f4",
   "metadata": {},
   "outputs": [
    {
     "name": "stdout",
     "output_type": "stream",
     "text": [
      "time: 653 μs (started: 2024-10-26 02:08:21 +07:00)\n"
     ]
    }
   ],
   "source": [
    "del sample['fav_genre1']\n",
    "del sample['fav_genre2']\n",
    "del sample['fav_genre3']"
   ]
  },
  {
   "cell_type": "markdown",
   "id": "34fc7a4e-f47c-4d0a-b10e-8bfc76b325de",
   "metadata": {},
   "source": [
    "# 1. Базовый бустинг"
   ]
  },
  {
   "cell_type": "markdown",
   "id": "b10ef601-43e1-4a82-a79f-728c64d18548",
   "metadata": {},
   "source": [
    "Базовый бустинг, подбираем гиперпараметры по 800 рандомным юзерам и среднему f1-скору (чтобы лучше учесть имбалансность таргета)"
   ]
  },
  {
   "cell_type": "raw",
   "id": "61a32ab5-918b-42d7-ab59-ea2c714a8f8c",
   "metadata": {},
   "source": [
    "def objective(trial):\n",
    "    param = {\n",
    "        'learning_rate': trial.suggest_float('learning_rate', 0.01, 0.4),\n",
    "        'n_estimators': trial.suggest_int('n_estimators', 300, 2001, 100),\n",
    "        'max_depth': trial.suggest_int('max_depth', 3, 14, 2),\n",
    "        'l2_leaf_reg': trial.suggest_int('l2_leaf_reg', 1, 11)\n",
    "    }\n",
    "    v1, v2, v3, v4 = np.split(user_ids[:800], 4)\n",
    "    f1 = 0\n",
    "    for v in [v1, v2, v3, v4]:\n",
    "        X_train = sample[~sample['user_id'].isin(v)].iloc[:, 3:]\n",
    "        y_train = sample[~sample['user_id'].isin(v)]['target']\n",
    "        X_test = sample[sample['user_id'].isin(v)].iloc[:, 3:]\n",
    "        y_test = sample[sample['user_id'].isin(v)]['target']\n",
    "        cb = CatBoostClassifier(**param, \n",
    "                                loss_function='CrossEntropy', \n",
    "                                cat_features=['gender', 'fav_genre'], \n",
    "                                silent=True, \n",
    "                                early_stopping_rounds=100\n",
    "                               ).fit(X_train, y_train)\n",
    "        y_pred = cb.predict(X_test)\n",
    "        f1 += f1_score(y_test, y_pred)\n",
    "    return f1 / 4\n",
    "\n",
    "\n",
    "np.random.shuffle(user_ids)\n",
    "study = optuna.create_study(direction='maximize')\n",
    "study.optimize(objective, n_trials=20)"
   ]
  },
  {
   "cell_type": "code",
   "execution_count": 16,
   "id": "7cd6786a-4575-468c-bd84-2da5f0bc5c01",
   "metadata": {},
   "outputs": [
    {
     "name": "stdout",
     "output_type": "stream",
     "text": [
      "time: 1.67 ms (started: 2024-10-26 02:08:21 +07:00)\n"
     ]
    }
   ],
   "source": [
    "sbp = {'learning_rate': 0.34071414364420843, 'n_estimators': 1000, 'max_depth': 11, 'l2_leaf_reg': 5}"
   ]
  },
  {
   "cell_type": "code",
   "execution_count": 17,
   "id": "3853f4e9-7b5d-4e95-b6e3-fde13f6e2e41",
   "metadata": {},
   "outputs": [
    {
     "name": "stdout",
     "output_type": "stream",
     "text": [
      "time: 35.8 ms (started: 2024-10-26 02:08:21 +07:00)\n"
     ]
    }
   ],
   "source": [
    "X_train, y_train = sample.drop(['user_id', 'item_id', 'target'], axis = 1), sample['target']"
   ]
  },
  {
   "cell_type": "code",
   "execution_count": 18,
   "id": "4569ec18-a0ce-45b5-8293-d3e272814337",
   "metadata": {},
   "outputs": [
    {
     "name": "stdout",
     "output_type": "stream",
     "text": [
      "0:\tlearn: 0.2970932\ttotal: 107ms\tremaining: 1m 46s\n",
      "100:\tlearn: 0.0850726\ttotal: 14s\tremaining: 2m 4s\n",
      "200:\tlearn: 0.0710382\ttotal: 26.3s\tremaining: 1m 44s\n",
      "300:\tlearn: 0.0606037\ttotal: 38.5s\tremaining: 1m 29s\n",
      "400:\tlearn: 0.0525387\ttotal: 50.9s\tremaining: 1m 16s\n",
      "500:\tlearn: 0.0459637\ttotal: 1m 3s\tremaining: 1m 3s\n",
      "600:\tlearn: 0.0402470\ttotal: 1m 15s\tremaining: 50.2s\n",
      "700:\tlearn: 0.0361247\ttotal: 1m 27s\tremaining: 37.4s\n",
      "800:\tlearn: 0.0323999\ttotal: 1m 40s\tremaining: 25s\n",
      "900:\tlearn: 0.0293025\ttotal: 1m 58s\tremaining: 13s\n",
      "999:\tlearn: 0.0268830\ttotal: 2m 13s\tremaining: 0us\n"
     ]
    },
    {
     "data": {
      "text/plain": [
       "<catboost.core.CatBoostClassifier at 0x368497490>"
      ]
     },
     "execution_count": 18,
     "metadata": {},
     "output_type": "execute_result"
    },
    {
     "name": "stdout",
     "output_type": "stream",
     "text": [
      "time: 2min 13s (started: 2024-10-26 02:08:21 +07:00)\n"
     ]
    }
   ],
   "source": [
    "X_train, y_train = sample.drop(['user_id', 'item_id', 'target'], axis = 1), sample['target']\n",
    "\n",
    "clf = CatBoostClassifier(\n",
    "    **sbp,\n",
    "    loss_function='CrossEntropy', \n",
    "    cat_features=['gender'], \n",
    "    early_stopping_rounds=100,\n",
    "    random_state=29,\n",
    "    silent=True\n",
    ")\n",
    "\n",
    "clf.fit(X_train, y_train, verbose=100)"
   ]
  },
  {
   "cell_type": "code",
   "execution_count": 19,
   "id": "81af9fba-b92f-4bb9-bf48-e3f5da5d4e60",
   "metadata": {},
   "outputs": [
    {
     "name": "stdout",
     "output_type": "stream",
     "text": [
      "F1-score: 0.0984\n",
      "ROC-AUC: 0.7627\n",
      "PR-AUC: 0.136\n",
      "time: 5min 34s (started: 2024-10-26 02:10:35 +07:00)\n"
     ]
    }
   ],
   "source": [
    "scoring = {'f1_score': 'f1',\n",
    "           'roc_auc_score': 'roc_auc',\n",
    "           'pr_auc_score': 'average_precision'}\n",
    "\n",
    "cv_metrics_v1 = cross_validate(clf, X_train, y_train, scoring=scoring, cv=3)\n",
    "print(f\"F1-score: {np.round(np.mean(cv_metrics_v1['test_f1_score']), 4)}\")\n",
    "print(f\"ROC-AUC: {np.round(np.mean(cv_metrics_v1['test_roc_auc_score']), 4)}\")\n",
    "print(f\"PR-AUC: {np.round(np.mean(cv_metrics_v1['test_pr_auc_score']), 4)}\")"
   ]
  },
  {
   "cell_type": "markdown",
   "id": "b5ee14c7-4ddf-4f9e-9990-74485ccebc7d",
   "metadata": {},
   "source": [
    "Ну, для базовой штуки неплохо, создадим топ-10 рекомендаций и сохраним:"
   ]
  },
  {
   "cell_type": "code",
   "execution_count": 20,
   "id": "644c7615-e56b-4d39-8b32-2ff93cef8214",
   "metadata": {},
   "outputs": [
    {
     "name": "stderr",
     "output_type": "stream",
     "text": [
      "100%|██████████| 6040/6040 [01:37<00:00, 62.27it/s]\n"
     ]
    },
    {
     "name": "stdout",
     "output_type": "stream",
     "text": [
      "time: 3min 50s (started: 2024-10-26 02:16:10 +07:00)\n"
     ]
    }
   ],
   "source": [
    "combinations = list(itertools.product(user_ids, item_ids))\n",
    "data_for_pred = pd.DataFrame(combinations, columns=['user_id', 'item_id'])\n",
    "data_for_pred = data_for_pred.merge(ratings, how = 'left', on = 'item_id')\n",
    "data_for_pred = data_for_pred.merge(user_new_features[['user_id', 'num_of_items', 'fav_genre_share1', 'fav_genre_share2', 'fav_genre_share3']], how = 'left', on = 'user_id')\n",
    "data_for_pred = data_for_pred.merge(item_features, how = 'left', on = 'item_id')\n",
    "data_for_pred = data_for_pred.merge(user_features, how = 'left', on = 'user_id')\n",
    "\n",
    "g1_arr, g2_arr, g3_arr = [], [], []\n",
    "for user_id in tqdm(np.arange(6040)):\n",
    "    sliced = data_for_pred[data_for_pred['user_id'] == user_id]\n",
    "    if len(sliced) > 0:\n",
    "        g1, g2, g3 = user_new_features[user_new_features['user_id'] == user_id][['fav_genre1', 'fav_genre2', 'fav_genre3']].values[0]\n",
    "        g1_arr.append(sliced[g1].values.tolist())\n",
    "        g2_arr.append(sliced[g2].values.tolist())\n",
    "        g3_arr.append(sliced[g3].values.tolist())\n",
    "    else:\n",
    "        print('No user_id info')\n",
    "\n",
    "data_for_pred['is_fav_genre1'] = list(itertools.chain(*g1_arr))\n",
    "data_for_pred['is_fav_genre2'] = list(itertools.chain(*g2_arr))\n",
    "data_for_pred['is_fav_genre3'] = list(itertools.chain(*g3_arr))\n",
    "\n",
    "events_c = events[['user_id', 'item_id']]\n",
    "events_c['target'] = 1\n",
    "data_for_pred = data_for_pred.merge(events_c, how = 'left', on = ['user_id', 'item_id'])\n",
    "\n",
    "data_for_pred['target'] = data_for_pred['target'].fillna(0)\n",
    "\n",
    "data_for_pred['catboost_score'] = clf.predict_proba(data_for_pred.drop(['user_id', 'item_id', 'target'], axis = 1))[:, 1]"
   ]
  },
  {
   "cell_type": "code",
   "execution_count": 21,
   "id": "23c20832-072b-4694-a27a-de20d0d063ee",
   "metadata": {},
   "outputs": [
    {
     "name": "stdout",
     "output_type": "stream",
     "text": [
      "time: 31.1 s (started: 2024-10-26 02:20:00 +07:00)\n"
     ]
    }
   ],
   "source": [
    "items_to_recommend = data_for_pred[data_for_pred['target'] == 0][['user_id', 'item_id', 'catboost_score']].copy()\n",
    "items_to_recommend = items_to_recommend.sort_values(['user_id', 'catboost_score'], ascending = [True, False]).reset_index(drop = True)\n",
    "items_to_recommend = items_to_recommend.groupby('user_id', as_index = False).apply(lambda x: x.nlargest(10, 'catboost_score')).reset_index(drop=True)"
   ]
  },
  {
   "cell_type": "code",
   "execution_count": 22,
   "id": "88b95160-3b29-422a-9395-375f419a412c",
   "metadata": {},
   "outputs": [
    {
     "name": "stdout",
     "output_type": "stream",
     "text": [
      "time: 79.5 ms (started: 2024-10-26 02:20:31 +07:00)\n"
     ]
    }
   ],
   "source": [
    "ss_new = items_to_recommend[['user_id', 'item_id']].groupby('user_id', as_index = False)['item_id'].apply(lambda x: ' '.join(map(str, x)))"
   ]
  },
  {
   "cell_type": "code",
   "execution_count": 23,
   "id": "0720d13a-d0e5-4486-9293-852bc6bade72",
   "metadata": {},
   "outputs": [
    {
     "name": "stdout",
     "output_type": "stream",
     "text": [
      "time: 16.2 ms (started: 2024-10-26 02:20:31 +07:00)\n"
     ]
    }
   ],
   "source": [
    "ss_new.to_csv('submission_sample_v1.csv', index = False)"
   ]
  },
  {
   "cell_type": "code",
   "execution_count": 24,
   "id": "81cc77be-b890-482c-94e9-993d6b8fe07f",
   "metadata": {},
   "outputs": [
    {
     "name": "stdout",
     "output_type": "stream",
     "text": [
      "time: 874 μs (started: 2024-10-26 02:20:31 +07:00)\n"
     ]
    }
   ],
   "source": [
    "del items_to_recommend\n",
    "del ss_new"
   ]
  },
  {
   "cell_type": "markdown",
   "id": "7b02baf9-9c3c-49a5-9e78-e0cac474e9e4",
   "metadata": {},
   "source": [
    "# 2. Бустинг с ALS"
   ]
  },
  {
   "cell_type": "markdown",
   "id": "ba26b9b1-5d95-4103-af84-bd2f03cafad6",
   "metadata": {},
   "source": [
    "Теперь построим ALS с помощью библиотеки **implicit** в другом ноутбуке:"
   ]
  },
  {
   "cell_type": "code",
   "execution_count": 25,
   "id": "b9c6dc40-cf97-4ba2-8110-e1555258dff7",
   "metadata": {},
   "outputs": [
    {
     "name": "stdout",
     "output_type": "stream",
     "text": [
      "time: 5.12 s (started: 2024-10-26 02:20:31 +07:00)\n"
     ]
    }
   ],
   "source": [
    "als_df = pd.read_csv('als_score.csv')"
   ]
  },
  {
   "cell_type": "code",
   "execution_count": 26,
   "id": "5e9949f5-8553-4291-bd12-88310c970d77",
   "metadata": {},
   "outputs": [
    {
     "name": "stdout",
     "output_type": "stream",
     "text": [
      "time: 5.79 s (started: 2024-10-26 02:20:37 +07:00)\n"
     ]
    }
   ],
   "source": [
    "sample = sample.merge(als_df, how = 'left', on = ['user_id', 'item_id'])"
   ]
  },
  {
   "cell_type": "code",
   "execution_count": 27,
   "id": "61808a20-4614-4cef-9dcb-d485a75a3fb4",
   "metadata": {},
   "outputs": [
    {
     "name": "stdout",
     "output_type": "stream",
     "text": [
      "0:\tlearn: 0.1402405\ttotal: 111ms\tremaining: 1m 50s\n",
      "100:\tlearn: 0.0305409\ttotal: 14.7s\tremaining: 2m 11s\n",
      "200:\tlearn: 0.0205187\ttotal: 29.1s\tremaining: 1m 55s\n",
      "300:\tlearn: 0.0148740\ttotal: 43.3s\tremaining: 1m 40s\n",
      "400:\tlearn: 0.0110217\ttotal: 58s\tremaining: 1m 26s\n",
      "500:\tlearn: 0.0082990\ttotal: 1m 12s\tremaining: 1m 11s\n",
      "600:\tlearn: 0.0066671\ttotal: 1m 26s\tremaining: 57.3s\n",
      "700:\tlearn: 0.0053996\ttotal: 1m 40s\tremaining: 43s\n",
      "800:\tlearn: 0.0043605\ttotal: 1m 55s\tremaining: 28.6s\n",
      "900:\tlearn: 0.0036327\ttotal: 2m 10s\tremaining: 14.3s\n",
      "999:\tlearn: 0.0030785\ttotal: 2m 24s\tremaining: 0us\n"
     ]
    },
    {
     "data": {
      "text/plain": [
       "<catboost.core.CatBoostClassifier at 0x3684d2d90>"
      ]
     },
     "execution_count": 27,
     "metadata": {},
     "output_type": "execute_result"
    },
    {
     "name": "stdout",
     "output_type": "stream",
     "text": [
      "time: 2min 25s (started: 2024-10-26 02:20:42 +07:00)\n"
     ]
    }
   ],
   "source": [
    "X_train, y_train = sample.drop(['user_id', 'item_id', 'target'], axis = 1), sample['target']\n",
    "\n",
    "clf = CatBoostClassifier(\n",
    "    **sbp,\n",
    "    loss_function='CrossEntropy', \n",
    "    cat_features=['gender'], \n",
    "    early_stopping_rounds=100,\n",
    "    random_state=29,\n",
    "    silent=True\n",
    ")\n",
    "\n",
    "clf.fit(X_train, y_train, verbose=100)"
   ]
  },
  {
   "cell_type": "code",
   "execution_count": 28,
   "id": "29dc8034-a534-43bf-8e24-003faa4cab8d",
   "metadata": {},
   "outputs": [
    {
     "name": "stdout",
     "output_type": "stream",
     "text": [
      "F1-score: 0.608\n",
      "ROC-AUC: 0.9716\n",
      "PR-AUC: 0.6738\n",
      "time: 5min 34s (started: 2024-10-26 02:23:08 +07:00)\n"
     ]
    }
   ],
   "source": [
    "scoring = {'f1_score': 'f1',\n",
    "           'roc_auc_score': 'roc_auc',\n",
    "           'pr_auc_score': 'average_precision'}\n",
    "\n",
    "cv_metrics_v2 = cross_validate(clf, X_train, y_train, scoring=scoring, cv=3)\n",
    "print(f\"F1-score: {np.round(np.mean(cv_metrics_v2['test_f1_score']), 4)}\")\n",
    "print(f\"ROC-AUC: {np.round(np.mean(cv_metrics_v2['test_roc_auc_score']), 4)}\")\n",
    "print(f\"PR-AUC: {np.round(np.mean(cv_metrics_v2['test_pr_auc_score']), 4)}\")"
   ]
  },
  {
   "cell_type": "markdown",
   "id": "a3bebffc-d4c5-4a49-b073-7bbdaf45e1a3",
   "metadata": {},
   "source": [
    "Тут сильно взлетел PR-AUC, что очень хорошо"
   ]
  },
  {
   "cell_type": "code",
   "execution_count": 29,
   "id": "cf88c281-dac9-487b-9606-6a69fa69ddb0",
   "metadata": {},
   "outputs": [
    {
     "data": {
      "image/png": "[encoded data removed]",
      "text/plain": [
       "<Figure size 1200x600 with 1 Axes>"
      ]
     },
     "metadata": {},
     "output_type": "display_data"
    },
    {
     "name": "stdout",
     "output_type": "stream",
     "text": [
      "time: 1.38 s (started: 2024-10-26 02:28:42 +07:00)\n"
     ]
    }
   ],
   "source": [
    "feature_importance = clf.feature_importances_\n",
    "sorted_idx = np.argsort(feature_importance)\n",
    "fig = plt.figure(figsize=(12, 6))\n",
    "plt.barh(range(len(sorted_idx)), feature_importance[sorted_idx], align='center')\n",
    "plt.yticks(range(len(sorted_idx)), np.array(X_train.columns)[sorted_idx])\n",
    "plt.title('Feature Importance')\n",
    "plt.show()"
   ]
  },
  {
   "cell_type": "code",
   "execution_count": 30,
   "id": "30fcdbf7-069c-4fd4-a647-d2abc20be4b5",
   "metadata": {},
   "outputs": [
    {
     "name": "stdout",
     "output_type": "stream",
     "text": [
      "time: 52.1 s (started: 2024-10-26 02:28:43 +07:00)\n"
     ]
    }
   ],
   "source": [
    "try:\n",
    "    del data_for_pred['catboost_score']\n",
    "except:\n",
    "    pass\n",
    "data_for_pred = data_for_pred.merge(als_df, how = 'left', on = ['user_id', 'item_id'])\n",
    "data_for_pred['catboost_score'] = clf.predict_proba(data_for_pred.drop(['user_id', 'item_id', 'target'], axis = 1))[:, 1]"
   ]
  },
  {
   "cell_type": "code",
   "execution_count": 31,
   "id": "83bbd4a5-5a71-4168-a5ab-4f747851b068",
   "metadata": {},
   "outputs": [
    {
     "name": "stdout",
     "output_type": "stream",
     "text": [
      "time: 34.2 s (started: 2024-10-26 02:29:35 +07:00)\n"
     ]
    }
   ],
   "source": [
    "items_to_recommend = data_for_pred[data_for_pred['target'] == 0][['user_id', 'item_id', 'catboost_score']].copy()\n",
    "items_to_recommend = items_to_recommend.sort_values(['user_id', 'catboost_score'], ascending = [True, False]).reset_index(drop = True)\n",
    "items_to_recommend = items_to_recommend.groupby('user_id', as_index = False).apply(lambda x: x.nlargest(10, 'catboost_score')).reset_index(drop=True)"
   ]
  },
  {
   "cell_type": "code",
   "execution_count": 32,
   "id": "64010903-0267-4f04-9f10-97239b70884d",
   "metadata": {},
   "outputs": [
    {
     "name": "stdout",
     "output_type": "stream",
     "text": [
      "time: 92.7 ms (started: 2024-10-26 02:30:10 +07:00)\n"
     ]
    }
   ],
   "source": [
    "ss_new = items_to_recommend[['user_id', 'item_id']].groupby('user_id', as_index = False)['item_id'].apply(lambda x: ' '.join(map(str, x)))"
   ]
  },
  {
   "cell_type": "code",
   "execution_count": 33,
   "id": "80e6cf2d-ce0f-490a-b368-fbad2cef1bb6",
   "metadata": {},
   "outputs": [
    {
     "name": "stdout",
     "output_type": "stream",
     "text": [
      "time: 18.3 ms (started: 2024-10-26 02:30:10 +07:00)\n"
     ]
    }
   ],
   "source": [
    "ss_new.to_csv('submission_sample_v2.csv', index = False)"
   ]
  },
  {
   "cell_type": "code",
   "execution_count": 34,
   "id": "76bebc5e-e5f7-4875-abc9-0ab1a92b4876",
   "metadata": {},
   "outputs": [
    {
     "name": "stdout",
     "output_type": "stream",
     "text": [
      "time: 1.26 ms (started: 2024-10-26 02:30:10 +07:00)\n"
     ]
    }
   ],
   "source": [
    "del items_to_recommend\n",
    "del ss_new"
   ]
  },
  {
   "cell_type": "markdown",
   "id": "d519085c-6bbd-43cc-96ee-e68014a34239",
   "metadata": {},
   "source": [
    "# 3. Бустинг с ALS + SVD + kNN"
   ]
  },
  {
   "cell_type": "markdown",
   "id": "e0aa91c1-75c3-4ffa-a5f0-54d0f603db6e",
   "metadata": {},
   "source": [
    "Теперь попробуем библиотеку **surprise**, оттуда возьмем коллаборативную фильтрацию с моделями SVD и kNN (по юзерам и по айтемам)"
   ]
  },
  {
   "cell_type": "code",
   "execution_count": 35,
   "id": "84f14e1e-f31f-4c53-9918-a8078dbffca8",
   "metadata": {},
   "outputs": [
    {
     "name": "stdout",
     "output_type": "stream",
     "text": [
      "time: 5.41 s (started: 2024-10-26 02:30:10 +07:00)\n"
     ]
    }
   ],
   "source": [
    "knn_scores = pd.read_csv('surprise_scores.csv')"
   ]
  },
  {
   "cell_type": "code",
   "execution_count": 36,
   "id": "00ce302a-c0dd-4272-a293-fe4b1b6ba8c4",
   "metadata": {},
   "outputs": [
    {
     "name": "stdout",
     "output_type": "stream",
     "text": [
      "time: 3.53 s (started: 2024-10-26 02:30:15 +07:00)\n"
     ]
    }
   ],
   "source": [
    "sample = sample.merge(knn_scores, how = 'left', on = ['user_id', 'item_id'])"
   ]
  },
  {
   "cell_type": "code",
   "execution_count": 37,
   "id": "d1df68ac-3467-4b43-88bb-b0214218f3e2",
   "metadata": {},
   "outputs": [
    {
     "name": "stdout",
     "output_type": "stream",
     "text": [
      "0:\tlearn: 0.1721537\ttotal: 167ms\tremaining: 2m 46s\n",
      "100:\tlearn: 0.0256997\ttotal: 22.4s\tremaining: 3m 19s\n",
      "200:\tlearn: 0.0156957\ttotal: 43.1s\tremaining: 2m 51s\n",
      "300:\tlearn: 0.0099690\ttotal: 1m 4s\tremaining: 2m 30s\n",
      "400:\tlearn: 0.0067387\ttotal: 1m 30s\tremaining: 2m 14s\n",
      "500:\tlearn: 0.0048624\ttotal: 1m 50s\tremaining: 1m 49s\n",
      "600:\tlearn: 0.0037318\ttotal: 2m 10s\tremaining: 1m 26s\n",
      "700:\tlearn: 0.0029489\ttotal: 2m 35s\tremaining: 1m 6s\n",
      "800:\tlearn: 0.0023665\ttotal: 2m 58s\tremaining: 44.3s\n",
      "900:\tlearn: 0.0019536\ttotal: 3m 21s\tremaining: 22.1s\n",
      "999:\tlearn: 0.0016589\ttotal: 3m 41s\tremaining: 0us\n"
     ]
    },
    {
     "data": {
      "text/plain": [
       "<catboost.core.CatBoostClassifier at 0x35c8cca50>"
      ]
     },
     "execution_count": 37,
     "metadata": {},
     "output_type": "execute_result"
    },
    {
     "name": "stdout",
     "output_type": "stream",
     "text": [
      "time: 3min 41s (started: 2024-10-26 02:30:19 +07:00)\n"
     ]
    }
   ],
   "source": [
    "sbp = {'learning_rate': 0.3, 'n_estimators': 1000, 'max_depth': 12, 'l2_leaf_reg': 5}\n",
    "\n",
    "X_train, y_train = sample.drop(['user_id', 'item_id', 'target'], axis = 1), sample['target']\n",
    "\n",
    "clf = CatBoostClassifier(\n",
    "    **sbp,\n",
    "    loss_function='CrossEntropy', \n",
    "    cat_features=['gender'], \n",
    "    early_stopping_rounds=100,\n",
    "    random_state=29,\n",
    "    silent=True\n",
    ")\n",
    "\n",
    "clf.fit(X_train, y_train, verbose=100)"
   ]
  },
  {
   "cell_type": "code",
   "execution_count": 38,
   "id": "a8e145fe-7c9e-4f25-9fff-c7dcb9d6bffe",
   "metadata": {},
   "outputs": [
    {
     "name": "stdout",
     "output_type": "stream",
     "text": [
      "F1-score: 0.6127\n",
      "ROC-AUC: 0.9744\n",
      "PR-AUC: 0.6843\n",
      "time: 5min 19s (started: 2024-10-26 02:34:01 +07:00)\n"
     ]
    }
   ],
   "source": [
    "scoring = {'f1_score': 'f1',\n",
    "           'roc_auc_score': 'roc_auc',\n",
    "           'pr_auc_score': 'average_precision'}\n",
    "\n",
    "cv_metrics_v3 = cross_validate(clf, X_train, y_train, scoring=scoring, cv=3)\n",
    "print(f\"F1-score: {np.round(np.mean(cv_metrics_v3['test_f1_score']), 4)}\")\n",
    "print(f\"ROC-AUC: {np.round(np.mean(cv_metrics_v3['test_roc_auc_score']), 4)}\")\n",
    "print(f\"PR-AUC: {np.round(np.mean(cv_metrics_v3['test_pr_auc_score']), 4)}\")"
   ]
  },
  {
   "cell_type": "markdown",
   "id": "23944359-bdfb-4cb8-a32a-45bb5b7a6c8f",
   "metadata": {},
   "source": [
    "Ну тут SVD скор хороший, kNN слабо себя показал"
   ]
  },
  {
   "cell_type": "code",
   "execution_count": 39,
   "id": "bc2790d9-f856-4f64-959f-f1eab8697211",
   "metadata": {},
   "outputs": [
    {
     "data": {
      "image/png": "[encoded data removed]",
      "text/plain": [
       "<Figure size 1200x600 with 1 Axes>"
      ]
     },
     "metadata": {},
     "output_type": "display_data"
    },
    {
     "name": "stdout",
     "output_type": "stream",
     "text": [
      "time: 125 ms (started: 2024-10-26 02:39:20 +07:00)\n"
     ]
    }
   ],
   "source": [
    "feature_importance = clf.feature_importances_\n",
    "sorted_idx = np.argsort(feature_importance)\n",
    "fig = plt.figure(figsize=(12, 6))\n",
    "plt.barh(range(len(sorted_idx)), feature_importance[sorted_idx], align='center')\n",
    "plt.yticks(range(len(sorted_idx)), np.array(X_train.columns)[sorted_idx])\n",
    "plt.title('Feature Importance')\n",
    "plt.show()"
   ]
  },
  {
   "cell_type": "code",
   "execution_count": 40,
   "id": "998bf069-6bd9-4897-b47e-30bef6639928",
   "metadata": {},
   "outputs": [
    {
     "name": "stdout",
     "output_type": "stream",
     "text": [
      "time: 28.6 s (started: 2024-10-26 02:39:20 +07:00)\n"
     ]
    }
   ],
   "source": [
    "try:\n",
    "    del data_for_pred['catboost_score']\n",
    "except:\n",
    "    pass\n",
    "data_for_pred = data_for_pred.merge(knn_scores, how = 'left', on = ['user_id', 'item_id'])\n",
    "data_for_pred['catboost_score'] = clf.predict_proba(data_for_pred.drop(['user_id', 'item_id', 'target'], axis = 1))[:, 1]"
   ]
  },
  {
   "cell_type": "code",
   "execution_count": 41,
   "id": "9dea9310-df53-4e18-abaa-d90467479a92",
   "metadata": {},
   "outputs": [
    {
     "name": "stdout",
     "output_type": "stream",
     "text": [
      "time: 25.4 s (started: 2024-10-26 02:39:49 +07:00)\n"
     ]
    }
   ],
   "source": [
    "items_to_recommend = data_for_pred[data_for_pred['target'] == 0][['user_id', 'item_id', 'catboost_score']].copy()\n",
    "items_to_recommend = items_to_recommend.sort_values(['user_id', 'catboost_score'], ascending = [True, False]).reset_index(drop = True)\n",
    "items_to_recommend = items_to_recommend.groupby('user_id', as_index = False).apply(lambda x: x.nlargest(10, 'catboost_score')).reset_index(drop=True)"
   ]
  },
  {
   "cell_type": "code",
   "execution_count": 42,
   "id": "62c74a20-99a8-43ce-9142-5c98aca3dbad",
   "metadata": {},
   "outputs": [
    {
     "name": "stdout",
     "output_type": "stream",
     "text": [
      "time: 47.5 ms (started: 2024-10-26 02:40:14 +07:00)\n"
     ]
    }
   ],
   "source": [
    "ss_new = items_to_recommend[['user_id', 'item_id']].groupby('user_id', as_index = False)['item_id'].apply(lambda x: ' '.join(map(str, x)))"
   ]
  },
  {
   "cell_type": "code",
   "execution_count": 43,
   "id": "5e11159b-b690-405d-814a-979f8f345dec",
   "metadata": {},
   "outputs": [
    {
     "name": "stdout",
     "output_type": "stream",
     "text": [
      "time: 9.14 ms (started: 2024-10-26 02:40:14 +07:00)\n"
     ]
    }
   ],
   "source": [
    "ss_new.to_csv('submission_sample_v3.csv', index = False)"
   ]
  },
  {
   "cell_type": "code",
   "execution_count": 44,
   "id": "163b9bc7-1cf5-493e-9c1c-566e4d185131",
   "metadata": {},
   "outputs": [
    {
     "name": "stdout",
     "output_type": "stream",
     "text": [
      "time: 297 μs (started: 2024-10-26 02:40:14 +07:00)\n"
     ]
    }
   ],
   "source": [
    "del items_to_recommend\n",
    "del ss_new"
   ]
  },
  {
   "cell_type": "markdown",
   "id": "f3a1d017-6bcd-4c9e-b060-4dfa1ba1cceb",
   "metadata": {},
   "source": [
    "# 4. Попробуем еще implicit скоры"
   ]
  },
  {
   "cell_type": "markdown",
   "id": "ca34a9d6-3fcb-4271-9830-9d3fad5c15e7",
   "metadata": {},
   "source": [
    "**implicit** мне больше понравился, возьмем оттуда еще модели и проранжируем айтемы:"
   ]
  },
  {
   "cell_type": "code",
   "execution_count": 45,
   "id": "d41dc248-0da6-4c3b-b44f-9a3c206e55dd",
   "metadata": {},
   "outputs": [
    {
     "name": "stdout",
     "output_type": "stream",
     "text": [
      "time: 9.94 s (started: 2024-10-26 02:40:14 +07:00)\n"
     ]
    }
   ],
   "source": [
    "implicit_scores = pd.read_csv('implicit_scores.csv')"
   ]
  },
  {
   "cell_type": "code",
   "execution_count": 46,
   "id": "66fc016c-3999-4507-bc7c-11d859470373",
   "metadata": {},
   "outputs": [
    {
     "name": "stdout",
     "output_type": "stream",
     "text": [
      "time: 4.23 s (started: 2024-10-26 02:40:24 +07:00)\n"
     ]
    }
   ],
   "source": [
    "sample = sample.drop('als_score', axis = 1)\n",
    "sample = sample.merge(implicit_scores, how = 'left', on = ['user_id', 'item_id'])"
   ]
  },
  {
   "cell_type": "code",
   "execution_count": 47,
   "id": "13ecb261-b197-4500-8442-682632fa8a26",
   "metadata": {},
   "outputs": [
    {
     "name": "stdout",
     "output_type": "stream",
     "text": [
      "0:\tlearn: 0.2223832\ttotal: 133ms\tremaining: 1m 6s\n",
      "100:\tlearn: 0.0201961\ttotal: 12.9s\tremaining: 50.8s\n",
      "200:\tlearn: 0.0101192\ttotal: 26.1s\tremaining: 38.9s\n",
      "300:\tlearn: 0.0057325\ttotal: 38.7s\tremaining: 25.6s\n",
      "400:\tlearn: 0.0035865\ttotal: 51.5s\tremaining: 12.7s\n",
      "499:\tlearn: 0.0024429\ttotal: 1m 4s\tremaining: 0us\n"
     ]
    },
    {
     "data": {
      "text/plain": [
       "<catboost.core.CatBoostClassifier at 0x164525010>"
      ]
     },
     "execution_count": 47,
     "metadata": {},
     "output_type": "execute_result"
    },
    {
     "name": "stdout",
     "output_type": "stream",
     "text": [
      "time: 1min 5s (started: 2024-10-26 02:40:29 +07:00)\n"
     ]
    }
   ],
   "source": [
    "sbp = {'learning_rate': 0.3, 'n_estimators': 500, 'max_depth': 12, 'l2_leaf_reg': 5}\n",
    "\n",
    "X_train, y_train = sample.drop(['user_id', 'item_id', 'target'], axis = 1), sample['target']\n",
    "\n",
    "clf = CatBoostClassifier(\n",
    "    **sbp,\n",
    "    loss_function='CrossEntropy', \n",
    "    cat_features=['gender'], \n",
    "    early_stopping_rounds=100,\n",
    "    random_state=29,\n",
    "    silent=True\n",
    ")\n",
    "\n",
    "clf.fit(X_train, y_train, verbose=100)"
   ]
  },
  {
   "cell_type": "code",
   "execution_count": 48,
   "id": "5ee5412b-40c1-4b89-beaf-e1337495f6b7",
   "metadata": {},
   "outputs": [
    {
     "name": "stdout",
     "output_type": "stream",
     "text": [
      "F1-score: 0.6422\n",
      "ROC-AUC: 0.9833\n",
      "PR-AUC: 0.7299\n",
      "time: 2min 43s (started: 2024-10-26 02:41:34 +07:00)\n"
     ]
    }
   ],
   "source": [
    "scoring = {'f1_score': 'f1',\n",
    "           'roc_auc_score': 'roc_auc',\n",
    "           'pr_auc_score': 'average_precision'}\n",
    "\n",
    "cv_metrics_v5 = cross_validate(clf, X_train, y_train, scoring=scoring, cv=3)\n",
    "print(f\"F1-score: {np.round(np.mean(cv_metrics_v5['test_f1_score']), 4)}\")\n",
    "print(f\"ROC-AUC: {np.round(np.mean(cv_metrics_v5['test_roc_auc_score']), 4)}\")\n",
    "print(f\"PR-AUC: {np.round(np.mean(cv_metrics_v5['test_pr_auc_score']), 4)}\")"
   ]
  },
  {
   "cell_type": "code",
   "execution_count": 49,
   "id": "55069728-4247-400b-b2e9-9c14f6844c45",
   "metadata": {},
   "outputs": [
    {
     "data": {
      "image/png": "[encoded data removed]",
      "text/plain": [
       "<Figure size 1200x600 with 1 Axes>"
      ]
     },
     "metadata": {},
     "output_type": "display_data"
    },
    {
     "name": "stdout",
     "output_type": "stream",
     "text": [
      "time: 131 ms (started: 2024-10-26 02:44:17 +07:00)\n"
     ]
    }
   ],
   "source": [
    "feature_importance = clf.feature_importances_\n",
    "sorted_idx = np.argsort(feature_importance)\n",
    "fig = plt.figure(figsize=(12, 6))\n",
    "plt.barh(range(len(sorted_idx)), feature_importance[sorted_idx], align='center')\n",
    "plt.yticks(range(len(sorted_idx)), np.array(X_train.columns)[sorted_idx])\n",
    "plt.title('Feature Importance')\n",
    "plt.show()"
   ]
  },
  {
   "cell_type": "markdown",
   "id": "88964bab-b55c-4d4f-a57e-a00789de153f",
   "metadata": {},
   "source": [
    "Тут скоры хорошо залетели, конечно, они частично скореллированы с ALS, но бустинг переживет"
   ]
  },
  {
   "cell_type": "code",
   "execution_count": 50,
   "id": "d707cd1c-6cdb-4a8f-bb80-875f29fe977c",
   "metadata": {},
   "outputs": [
    {
     "name": "stdout",
     "output_type": "stream",
     "text": [
      "time: 3.23 s (started: 2024-10-26 02:44:18 +07:00)\n"
     ]
    }
   ],
   "source": [
    "data_for_pred = data_for_pred.drop(['als_score'], axis = 1)"
   ]
  },
  {
   "cell_type": "code",
   "execution_count": 51,
   "id": "25f83c37-8adc-4b65-ad62-ca0421432a3b",
   "metadata": {},
   "outputs": [
    {
     "name": "stdout",
     "output_type": "stream",
     "text": [
      "time: 28.7 s (started: 2024-10-26 02:44:21 +07:00)\n"
     ]
    }
   ],
   "source": [
    "try:\n",
    "    del data_for_pred['catboost_score']\n",
    "except:\n",
    "    pass\n",
    "\n",
    "data_for_pred = data_for_pred.merge(implicit_scores, how = 'left', on = ['user_id', 'item_id'])\n",
    "data_for_pred['catboost_score'] = clf.predict_proba(data_for_pred.drop(['user_id', 'item_id', 'target'], axis = 1))[:, 1]"
   ]
  },
  {
   "cell_type": "code",
   "execution_count": 52,
   "id": "0ae6f4b7-c0b7-492f-8cb6-8dd9e0a8b039",
   "metadata": {},
   "outputs": [
    {
     "name": "stdout",
     "output_type": "stream",
     "text": [
      "time: 25.7 s (started: 2024-10-26 02:44:50 +07:00)\n"
     ]
    }
   ],
   "source": [
    "items_to_recommend = data_for_pred[data_for_pred['target'] == 0][['user_id', 'item_id', 'catboost_score']].copy()\n",
    "items_to_recommend = items_to_recommend.sort_values(['user_id', 'catboost_score'], ascending = [True, False]).reset_index(drop = True)\n",
    "items_to_recommend = items_to_recommend.groupby('user_id', as_index = False).apply(lambda x: x.nlargest(10, 'catboost_score')).reset_index(drop=True)"
   ]
  },
  {
   "cell_type": "code",
   "execution_count": 53,
   "id": "366adabb-3127-4134-a6ed-41266a61155f",
   "metadata": {},
   "outputs": [
    {
     "name": "stdout",
     "output_type": "stream",
     "text": [
      "time: 88.2 ms (started: 2024-10-26 02:45:15 +07:00)\n"
     ]
    }
   ],
   "source": [
    "ss_new = items_to_recommend[['user_id', 'item_id']].groupby('user_id', as_index = False)['item_id'].apply(lambda x: ' '.join(map(str, x)))"
   ]
  },
  {
   "cell_type": "code",
   "execution_count": 54,
   "id": "450b683f-1693-4488-ada8-80c88b00632b",
   "metadata": {},
   "outputs": [
    {
     "name": "stdout",
     "output_type": "stream",
     "text": [
      "time: 18.9 ms (started: 2024-10-26 02:45:15 +07:00)\n"
     ]
    }
   ],
   "source": [
    "ss_new.to_csv('submission_sample_v555.csv', index = False)"
   ]
  },
  {
   "cell_type": "code",
   "execution_count": 55,
   "id": "0dfa384b-e314-4dcc-b6b0-a4770c5b6668",
   "metadata": {},
   "outputs": [
    {
     "name": "stdout",
     "output_type": "stream",
     "text": [
      "time: 641 μs (started: 2024-10-26 02:45:15 +07:00)\n"
     ]
    }
   ],
   "source": [
    "del items_to_recommend\n",
    "del ss_new"
   ]
  },
  {
   "cell_type": "markdown",
   "id": "f3270632-e334-4d72-9b7a-ac133a875de5",
   "metadata": {},
   "source": [
    "## Отбор признаков"
   ]
  },
  {
   "cell_type": "markdown",
   "id": "01e7e0dd-85ed-469c-901b-89bc40e120c9",
   "metadata": {},
   "source": [
    "И последнее: отберем признаки, чтобы оставить только самое важное, и уменьшим глубину деревьев в бустинге"
   ]
  },
  {
   "cell_type": "code",
   "execution_count": 56,
   "id": "b628e87f-cb32-48f6-b095-ce6a005645ed",
   "metadata": {},
   "outputs": [
    {
     "name": "stdout",
     "output_type": "stream",
     "text": [
      "Index(['item_rating', 'num_of_items', 'fav_genre_share1', 'fav_genre_share2',\n",
      "       'fav_genre_share3', 'genre_4', 'genre_7', 'gender', 'age',\n",
      "       'is_fav_genre1', 'is_fav_genre2', 'svd_score', 'als_score', 'bpr_score',\n",
      "       'lmf_score'],\n",
      "      dtype='object')\n",
      "time: 536 ms (started: 2024-10-26 02:45:15 +07:00)\n"
     ]
    }
   ],
   "source": [
    "selector = SelectFromModel(clf, threshold=\"0.5*mean\", prefit=True)\n",
    "X_selected = selector.transform(X_train)\n",
    "\n",
    "selected_features = X_train.columns[selector.get_support()]\n",
    "print(selected_features)\n",
    "\n",
    "X_train_selected = X_train[selected_features]"
   ]
  },
  {
   "cell_type": "code",
   "execution_count": 57,
   "id": "bb5a2b0d-0e2e-4a77-8ef7-5a748c98e66d",
   "metadata": {},
   "outputs": [
    {
     "name": "stdout",
     "output_type": "stream",
     "text": [
      "time: 142 μs (started: 2024-10-26 02:45:16 +07:00)\n"
     ]
    }
   ],
   "source": [
    "sbp = {'n_estimators': 1200, 'max_depth': 7, 'l2_leaf_reg': 10}"
   ]
  },
  {
   "cell_type": "code",
   "execution_count": 58,
   "id": "389cff1d-5ae0-4a3f-a92b-40eba7f56f0e",
   "metadata": {},
   "outputs": [
    {
     "name": "stdout",
     "output_type": "stream",
     "text": [
      "0:\tlearn: 0.4438528\ttotal: 34.9ms\tremaining: 41.8s\n",
      "100:\tlearn: 0.0430016\ttotal: 3.84s\tremaining: 41.8s\n",
      "200:\tlearn: 0.0411535\ttotal: 7.6s\tremaining: 37.8s\n",
      "300:\tlearn: 0.0396797\ttotal: 11.2s\tremaining: 33.6s\n",
      "400:\tlearn: 0.0384444\ttotal: 15.2s\tremaining: 30.3s\n",
      "500:\tlearn: 0.0372419\ttotal: 19.3s\tremaining: 26.9s\n",
      "600:\tlearn: 0.0361780\ttotal: 22.8s\tremaining: 22.7s\n",
      "700:\tlearn: 0.0351977\ttotal: 26.5s\tremaining: 18.9s\n",
      "800:\tlearn: 0.0342700\ttotal: 30.6s\tremaining: 15.3s\n",
      "900:\tlearn: 0.0334268\ttotal: 34.4s\tremaining: 11.4s\n",
      "1000:\tlearn: 0.0326434\ttotal: 37.9s\tremaining: 7.53s\n",
      "1100:\tlearn: 0.0319141\ttotal: 41.3s\tremaining: 3.71s\n",
      "1199:\tlearn: 0.0311524\ttotal: 44.8s\tremaining: 0us\n"
     ]
    },
    {
     "data": {
      "text/plain": [
       "<catboost.core.CatBoostClassifier at 0x160125fd0>"
      ]
     },
     "execution_count": 58,
     "metadata": {},
     "output_type": "execute_result"
    },
    {
     "name": "stdout",
     "output_type": "stream",
     "text": [
      "time: 45.1 s (started: 2024-10-26 02:45:16 +07:00)\n"
     ]
    }
   ],
   "source": [
    "clf1 = CatBoostClassifier(\n",
    "    **sbp,\n",
    "    learning_rate=0.1,\n",
    "    loss_function='CrossEntropy', \n",
    "    cat_features=['gender'], \n",
    "    early_stopping_rounds=100,\n",
    "    random_state=29,\n",
    "    silent=True\n",
    ")\n",
    "\n",
    "clf1.fit(X_train_selected, y_train, verbose=100)"
   ]
  },
  {
   "cell_type": "code",
   "execution_count": 59,
   "id": "2d0e0285-59aa-481c-807f-9b41e62646f6",
   "metadata": {},
   "outputs": [
    {
     "data": {
      "image/png": "[encoded data removed]",
      "text/plain": [
       "<Figure size 1200x600 with 1 Axes>"
      ]
     },
     "metadata": {},
     "output_type": "display_data"
    },
    {
     "name": "stdout",
     "output_type": "stream",
     "text": [
      "time: 80.2 ms (started: 2024-10-26 02:46:01 +07:00)\n"
     ]
    }
   ],
   "source": [
    "feature_importance = clf1.feature_importances_\n",
    "sorted_idx = np.argsort(feature_importance)\n",
    "fig = plt.figure(figsize=(12, 6))\n",
    "plt.barh(range(len(sorted_idx)), feature_importance[sorted_idx], align='center')\n",
    "plt.yticks(range(len(sorted_idx)), np.array(X_train_selected.columns)[sorted_idx])\n",
    "plt.title('Feature Importance')\n",
    "plt.show()"
   ]
  },
  {
   "cell_type": "markdown",
   "id": "b985a47e-55d4-4656-a6e4-893e551aa63c",
   "metadata": {},
   "source": [
    "Топ-признаки: три скора из **implicit**, кол-во просмотренных фильмов, скор SVD и рейтинг айтема\n",
    "Базовые признаки не в почете"
   ]
  },
  {
   "cell_type": "code",
   "execution_count": 60,
   "id": "c1e0bacf-4f22-45fa-aa88-7715792409c1",
   "metadata": {},
   "outputs": [
    {
     "name": "stdout",
     "output_type": "stream",
     "text": [
      "F1-score: 0.6473\n",
      "ROC-AUC: 0.9858\n",
      "PR-AUC: 0.7434\n",
      "time: 1min 33s (started: 2024-10-26 02:46:01 +07:00)\n"
     ]
    }
   ],
   "source": [
    "scoring = {'f1_score': 'f1',\n",
    "           'roc_auc_score': 'roc_auc',\n",
    "           'pr_auc_score': 'average_precision'}\n",
    "\n",
    "cv_metrics_v4 = cross_validate(clf1, X_train_selected, y_train, scoring=scoring, cv=3)\n",
    "print(f\"F1-score: {np.round(np.mean(cv_metrics_v4['test_f1_score']), 4)}\")\n",
    "print(f\"ROC-AUC: {np.round(np.mean(cv_metrics_v4['test_roc_auc_score']), 4)}\")\n",
    "print(f\"PR-AUC: {np.round(np.mean(cv_metrics_v4['test_pr_auc_score']), 4)}\")"
   ]
  },
  {
   "cell_type": "markdown",
   "id": "b28ea550-6d72-4ad4-acd0-8639c09db9c4",
   "metadata": {},
   "source": [
    "Кросс-валидационные метрики очень приятные"
   ]
  },
  {
   "cell_type": "code",
   "execution_count": 61,
   "id": "f4da8501-486f-4d94-be6f-3a451cc680c3",
   "metadata": {},
   "outputs": [
    {
     "name": "stdout",
     "output_type": "stream",
     "text": [
      "time: 14.3 s (started: 2024-10-26 02:47:35 +07:00)\n"
     ]
    }
   ],
   "source": [
    "data_for_pred['catboost_score'] = clf1.predict_proba(data_for_pred[selected_features])[:, 1]"
   ]
  },
  {
   "cell_type": "code",
   "execution_count": 62,
   "id": "c18e18f1-6215-40d1-ad7c-e86568753e09",
   "metadata": {},
   "outputs": [
    {
     "name": "stdout",
     "output_type": "stream",
     "text": [
      "time: 23.6 s (started: 2024-10-26 02:47:49 +07:00)\n"
     ]
    }
   ],
   "source": [
    "items_to_recommend = data_for_pred[data_for_pred['target'] == 0][['user_id', 'item_id', 'catboost_score']].copy()\n",
    "items_to_recommend = items_to_recommend.sort_values(['user_id', 'catboost_score'], ascending = [True, False]).reset_index(drop = True)\n",
    "items_to_recommend = items_to_recommend.groupby('user_id', as_index = False).apply(lambda x: x.nlargest(10, 'catboost_score')).reset_index(drop=True)"
   ]
  },
  {
   "cell_type": "code",
   "execution_count": 63,
   "id": "1c4be0a6-3b75-4916-b05a-fbd94159ebdf",
   "metadata": {},
   "outputs": [
    {
     "name": "stdout",
     "output_type": "stream",
     "text": [
      "time: 50.8 ms (started: 2024-10-26 02:48:13 +07:00)\n"
     ]
    }
   ],
   "source": [
    "ss_new = items_to_recommend[['user_id', 'item_id']].groupby('user_id', as_index = False)['item_id'].apply(lambda x: ' '.join(map(str, x)))"
   ]
  },
  {
   "cell_type": "code",
   "execution_count": 64,
   "id": "a9698f6f-715d-4dca-9029-4b9527387335",
   "metadata": {},
   "outputs": [
    {
     "name": "stdout",
     "output_type": "stream",
     "text": [
      "time: 8.94 ms (started: 2024-10-26 02:48:13 +07:00)\n"
     ]
    }
   ],
   "source": [
    "ss_new.to_csv('submission_sample_556.csv', index = False)"
   ]
  },
  {
   "cell_type": "markdown",
   "id": "1dc170c5-25c6-405b-b85a-7986a72a77e2",
   "metadata": {},
   "source": [
    "Метрики: \n",
    "- базовый бустинг - Recall@10 = 0.0412\n",
    "- catboost + als - Recall@10 = 0.0908\n",
    "- catboost + als + svd + kNN - Recall@10 = 0.0882\n",
    "- catboost + als + svd + kNN + lmf + bpr - Recall@10 = 0.1054 (после отбора признаков)"
   ]
  }
 ],
 "metadata": {
  "kernelspec": {
   "display_name": "Python 3 (ipykernel)",
   "language": "python",
   "name": "python3"
  },
  "language_info": {
   "codemirror_mode": {
    "name": "ipython",
    "version": 3
   },
   "file_extension": ".py",
   "mimetype": "text/x-python",
   "name": "python",
   "nbconvert_exporter": "python",
   "pygments_lexer": "ipython3",
   "version": "3.11.10"
  }
 },
 "nbformat": 4,
 "nbformat_minor": 5
}
