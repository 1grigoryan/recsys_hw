{
 "cells": [
  {
   "cell_type": "code",
   "execution_count": 27,
   "id": "2033a6a6-5f3b-450f-8b32-2ec10e754d8d",
   "metadata": {},
   "outputs": [
    {
     "name": "stdout",
     "output_type": "stream",
     "text": [
      "The autotime extension is already loaded. To reload it, use:\n",
      "  %reload_ext autotime\n",
      "time: 1.73 ms (started: 2024-10-26 01:20:46 +07:00)\n"
     ]
    }
   ],
   "source": [
    "import warnings\n",
    "warnings.filterwarnings('ignore')\n",
    "\n",
    "%load_ext autotime\n",
    "\n",
    "import pandas as pd\n",
    "import numpy as np\n",
    "import matplotlib.pyplot as plt\n",
    "import seaborn as sns\n",
    "import scipy\n",
    "\n",
    "import random\n",
    "\n",
    "from sklearn.model_selection import train_test_split, cross_val_score, cross_validate\n",
    "from sklearn.metrics import recall_score, f1_score\n",
    "from sklearn.metrics.pairwise import cosine_similarity\n",
    "from scipy.sparse import csr_matrix\n",
    "\n",
    "from implicit.als import AlternatingLeastSquares\n",
    "\n",
    "from surprise import Dataset, Reader\n",
    "import surprise.model_selection\n",
    "#from surprise.model_selection import cross_validate, GridSearchCV\n",
    "from surprise.prediction_algorithms import SVD, SVDpp, KNNBasic, KNNBaseline\n",
    "\n",
    "from catboost import CatBoostClassifier, CatBoostRanker, Pool\n",
    "\n",
    "from lightfm import LightFM\n",
    "from lightfm.evaluation import precision_at_k, recall_at_k\n",
    "\n",
    "from tqdm import tqdm\n",
    "\n",
    "import itertools\n",
    "\n",
    "import optuna"
   ]
  },
  {
   "cell_type": "code",
   "execution_count": 15,
   "id": "0b8eece1-f62f-4034-b6ef-c437b7a7f166",
   "metadata": {},
   "outputs": [
    {
     "name": "stderr",
     "output_type": "stream",
     "text": [
      "100%|██████████| 100/100 [00:07<00:00, 12.57it/s, train_auc=89.73%, skipped=24.76%]\n",
      "100%|██████████| 30/30 [00:03<00:00,  7.90it/s]"
     ]
    },
    {
     "name": "stdout",
     "output_type": "stream",
     "text": [
      "time: 12.1 s (started: 2024-10-26 01:18:28 +07:00)\n"
     ]
    },
    {
     "name": "stderr",
     "output_type": "stream",
     "text": [
      "\n"
     ]
    }
   ],
   "source": [
    "import implicit\n",
    "from scipy.sparse import coo_matrix\n",
    "import pandas as pd\n",
    "\n",
    "events = pd.read_csv('events.csv')\n",
    "\n",
    "user_ids = np.arange(6040)\n",
    "item_ids = np.arange(3706)\n",
    "\n",
    "events = events.sort_values(['user_id', 'item_id'])\n",
    "rows = events['user_id']\n",
    "cols = events['item_id']\n",
    "data = events['rating'].values\n",
    "\n",
    "user_item_matrix = csr_matrix((data, (rows, cols)), dtype = 'float64')\n",
    "\n",
    "# Инициализация моделей\n",
    "bpr_model = implicit.bpr.BayesianPersonalizedRanking(factors=50)\n",
    "lmf_model = implicit.lmf.LogisticMatrixFactorization(factors=50)\n",
    "\n",
    "# Обучение моделей\n",
    "bpr_model.fit(user_item_matrix)\n",
    "lmf_model.fit(user_item_matrix)"
   ]
  },
  {
   "cell_type": "code",
   "execution_count": 5,
   "id": "a73b2b00-ddbb-4d2d-84a0-b4c38fbf1b85",
   "metadata": {},
   "outputs": [
    {
     "name": "stderr",
     "output_type": "stream",
     "text": [
      "100%|██████████| 200/200 [01:03<00:00,  3.16it/s]"
     ]
    },
    {
     "name": "stdout",
     "output_type": "stream",
     "text": [
      "time: 1min 3s (started: 2024-10-26 01:05:40 +07:00)\n"
     ]
    },
    {
     "name": "stderr",
     "output_type": "stream",
     "text": [
      "\n"
     ]
    }
   ],
   "source": [
    "model = AlternatingLeastSquares(factors=150, regularization=0.25, iterations=200, random_state=29)\n",
    "model.fit(user_item_matrix)"
   ]
  },
  {
   "cell_type": "code",
   "execution_count": 6,
   "id": "f0b43ccc-0457-44b4-b2c4-b0fcabeb5b17",
   "metadata": {},
   "outputs": [
    {
     "name": "stdout",
     "output_type": "stream",
     "text": [
      "time: 673 ms (started: 2024-10-26 01:06:43 +07:00)\n"
     ]
    }
   ],
   "source": [
    "top_n = 3706\n",
    "recommended_items = model.recommend(np.arange(6040), user_item_matrix, filter_already_liked_items = False, N=top_n)"
   ]
  },
  {
   "cell_type": "code",
   "execution_count": 7,
   "id": "a716fc80-20ac-437f-b4c9-353532f3aa8c",
   "metadata": {},
   "outputs": [
    {
     "name": "stdout",
     "output_type": "stream",
     "text": [
      "time: 7min 43s (started: 2024-10-26 01:06:44 +07:00)\n"
     ]
    }
   ],
   "source": [
    "als_df = pd.DataFrame([np.repeat(user_ids, top_n).tolist(),recommended_items[0].reshape(-1).tolist(), recommended_items[1].reshape(-1).tolist()]).T\n",
    "als_df.columns = ['user_id', 'item_id', 'als_score']"
   ]
  },
  {
   "cell_type": "code",
   "execution_count": 23,
   "id": "18a17e0e-4794-4486-a974-d11c403bf636",
   "metadata": {},
   "outputs": [
    {
     "data": {
      "text/html": [
       "<div>\n",
       "<style scoped>\n",
       "    .dataframe tbody tr th:only-of-type {\n",
       "        vertical-align: middle;\n",
       "    }\n",
       "\n",
       "    .dataframe tbody tr th {\n",
       "        vertical-align: top;\n",
       "    }\n",
       "\n",
       "    .dataframe thead th {\n",
       "        text-align: right;\n",
       "    }\n",
       "</style>\n",
       "<table border=\"1\" class=\"dataframe\">\n",
       "  <thead>\n",
       "    <tr style=\"text-align: right;\">\n",
       "      <th></th>\n",
       "      <th>user_id</th>\n",
       "      <th>item_id</th>\n",
       "      <th>als_score</th>\n",
       "    </tr>\n",
       "  </thead>\n",
       "  <tbody>\n",
       "    <tr>\n",
       "      <th>0</th>\n",
       "      <td>0.0</td>\n",
       "      <td>1711.0</td>\n",
       "      <td>1.359568</td>\n",
       "    </tr>\n",
       "    <tr>\n",
       "      <th>1</th>\n",
       "      <td>0.0</td>\n",
       "      <td>2673.0</td>\n",
       "      <td>1.241903</td>\n",
       "    </tr>\n",
       "    <tr>\n",
       "      <th>2</th>\n",
       "      <td>0.0</td>\n",
       "      <td>3597.0</td>\n",
       "      <td>1.239341</td>\n",
       "    </tr>\n",
       "    <tr>\n",
       "      <th>3</th>\n",
       "      <td>0.0</td>\n",
       "      <td>1030.0</td>\n",
       "      <td>1.197416</td>\n",
       "    </tr>\n",
       "    <tr>\n",
       "      <th>4</th>\n",
       "      <td>0.0</td>\n",
       "      <td>3677.0</td>\n",
       "      <td>1.173790</td>\n",
       "    </tr>\n",
       "  </tbody>\n",
       "</table>\n",
       "</div>"
      ],
      "text/plain": [
       "   user_id  item_id  als_score\n",
       "0      0.0   1711.0   1.359568\n",
       "1      0.0   2673.0   1.241903\n",
       "2      0.0   3597.0   1.239341\n",
       "3      0.0   1030.0   1.197416\n",
       "4      0.0   3677.0   1.173790"
      ]
     },
     "execution_count": 23,
     "metadata": {},
     "output_type": "execute_result"
    },
    {
     "name": "stdout",
     "output_type": "stream",
     "text": [
      "time: 14.7 ms (started: 2024-10-26 01:19:38 +07:00)\n"
     ]
    }
   ],
   "source": [
    "als_df.head()"
   ]
  },
  {
   "cell_type": "code",
   "execution_count": 43,
   "id": "0232e340-f0d8-4fec-b820-b84262ffe21c",
   "metadata": {},
   "outputs": [
    {
     "name": "stdout",
     "output_type": "stream",
     "text": [
      "time: 3min 32s (started: 2024-10-26 01:24:00 +07:00)\n"
     ]
    }
   ],
   "source": [
    "user_indices = als_df['user_id'].astype(int).values\n",
    "item_indices = als_df['item_id'].astype(int).values\n",
    "\n",
    "bpr_user_vectors = bpr_user_factors[user_indices]\n",
    "bpr_item_vectors = bpr_item_factors[item_indices]\n",
    "lmf_user_vectors = lmf_user_factors[user_indices]\n",
    "lmf_item_vectors = lmf_item_factors[item_indices]\n",
    "\n",
    "bpr_scores = np.einsum('ij,ij->i', bpr_user_vectors, bpr_item_vectors) / (\n",
    "    np.linalg.norm(bpr_user_vectors, axis=1) * np.linalg.norm(bpr_item_vectors, axis=1)\n",
    ")\n",
    "lmf_scores = np.einsum('ij,ij->i', lmf_user_vectors, lmf_item_vectors) / (\n",
    "    np.linalg.norm(lmf_user_vectors, axis=1) * np.linalg.norm(lmf_item_vectors, axis=1)\n",
    ")"
   ]
  },
  {
   "cell_type": "code",
   "execution_count": 44,
   "id": "beb4f73b-19ab-4e41-9a9c-15e17d5054d9",
   "metadata": {},
   "outputs": [
    {
     "name": "stdout",
     "output_type": "stream",
     "text": [
      "time: 323 ms (started: 2024-10-26 01:27:33 +07:00)\n"
     ]
    }
   ],
   "source": [
    "als_df['bpr_score'] = bpr_scores\n",
    "als_df['lmf_score'] = lmf_scores"
   ]
  },
  {
   "cell_type": "code",
   "execution_count": 45,
   "id": "85a9174f-281a-4cf2-9a79-9e5deb8daeb5",
   "metadata": {},
   "outputs": [
    {
     "data": {
      "text/html": [
       "<div>\n",
       "<style scoped>\n",
       "    .dataframe tbody tr th:only-of-type {\n",
       "        vertical-align: middle;\n",
       "    }\n",
       "\n",
       "    .dataframe tbody tr th {\n",
       "        vertical-align: top;\n",
       "    }\n",
       "\n",
       "    .dataframe thead th {\n",
       "        text-align: right;\n",
       "    }\n",
       "</style>\n",
       "<table border=\"1\" class=\"dataframe\">\n",
       "  <thead>\n",
       "    <tr style=\"text-align: right;\">\n",
       "      <th></th>\n",
       "      <th>user_id</th>\n",
       "      <th>item_id</th>\n",
       "      <th>als_score</th>\n",
       "      <th>bpr_score</th>\n",
       "      <th>lmf_score</th>\n",
       "    </tr>\n",
       "  </thead>\n",
       "  <tbody>\n",
       "    <tr>\n",
       "      <th>0</th>\n",
       "      <td>0.0</td>\n",
       "      <td>1711.0</td>\n",
       "      <td>1.359568</td>\n",
       "      <td>0.462845</td>\n",
       "      <td>0.383199</td>\n",
       "    </tr>\n",
       "    <tr>\n",
       "      <th>1</th>\n",
       "      <td>0.0</td>\n",
       "      <td>2673.0</td>\n",
       "      <td>1.241903</td>\n",
       "      <td>0.207902</td>\n",
       "      <td>0.297794</td>\n",
       "    </tr>\n",
       "    <tr>\n",
       "      <th>2</th>\n",
       "      <td>0.0</td>\n",
       "      <td>3597.0</td>\n",
       "      <td>1.239341</td>\n",
       "      <td>0.503950</td>\n",
       "      <td>0.282673</td>\n",
       "    </tr>\n",
       "    <tr>\n",
       "      <th>3</th>\n",
       "      <td>0.0</td>\n",
       "      <td>1030.0</td>\n",
       "      <td>1.197416</td>\n",
       "      <td>0.250497</td>\n",
       "      <td>0.305708</td>\n",
       "    </tr>\n",
       "    <tr>\n",
       "      <th>4</th>\n",
       "      <td>0.0</td>\n",
       "      <td>3677.0</td>\n",
       "      <td>1.173790</td>\n",
       "      <td>0.238425</td>\n",
       "      <td>0.241454</td>\n",
       "    </tr>\n",
       "  </tbody>\n",
       "</table>\n",
       "</div>"
      ],
      "text/plain": [
       "   user_id  item_id  als_score  bpr_score  lmf_score\n",
       "0      0.0   1711.0   1.359568   0.462845   0.383199\n",
       "1      0.0   2673.0   1.241903   0.207902   0.297794\n",
       "2      0.0   3597.0   1.239341   0.503950   0.282673\n",
       "3      0.0   1030.0   1.197416   0.250497   0.305708\n",
       "4      0.0   3677.0   1.173790   0.238425   0.241454"
      ]
     },
     "execution_count": 45,
     "metadata": {},
     "output_type": "execute_result"
    },
    {
     "name": "stdout",
     "output_type": "stream",
     "text": [
      "time: 33.2 ms (started: 2024-10-26 01:27:33 +07:00)\n"
     ]
    }
   ],
   "source": [
    "als_df.head()"
   ]
  },
  {
   "cell_type": "code",
   "execution_count": 46,
   "id": "9541b734-61ec-4ee3-b2bb-06e9bdf86a43",
   "metadata": {},
   "outputs": [
    {
     "name": "stdout",
     "output_type": "stream",
     "text": [
      "time: 1min 40s (started: 2024-10-26 01:27:58 +07:00)\n"
     ]
    }
   ],
   "source": [
    "als_df.to_csv('implicit_scores.csv', index = False)"
   ]
  }
 ],
 "metadata": {
  "kernelspec": {
   "display_name": "Python 3 (ipykernel)",
   "language": "python",
   "name": "python3"
  },
  "language_info": {
   "codemirror_mode": {
    "name": "ipython",
    "version": 3
   },
   "file_extension": ".py",
   "mimetype": "text/x-python",
   "name": "python",
   "nbconvert_exporter": "python",
   "pygments_lexer": "ipython3",
   "version": "3.11.10"
  }
 },
 "nbformat": 4,
 "nbformat_minor": 5
}
