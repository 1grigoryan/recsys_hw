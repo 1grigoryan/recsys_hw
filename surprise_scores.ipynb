{
 "cells": [
  {
   "cell_type": "code",
   "execution_count": 1,
   "id": "c5df95ff-8104-4132-aa2d-8d6448211824",
   "metadata": {},
   "outputs": [
    {
     "name": "stdout",
     "output_type": "stream",
     "text": [
      "time: 2.18 s (started: 2024-10-26 01:29:21 +07:00)\n"
     ]
    }
   ],
   "source": [
    "import warnings\n",
    "warnings.filterwarnings('ignore')\n",
    "\n",
    "%load_ext autotime\n",
    "\n",
    "import pandas as pd\n",
    "import numpy as np\n",
    "import matplotlib.pyplot as plt\n",
    "import seaborn as sns\n",
    "import scipy\n",
    "\n",
    "import random\n",
    "\n",
    "from sklearn.model_selection import train_test_split, cross_val_score, cross_validate\n",
    "from sklearn.metrics import recall_score, f1_score\n",
    "from scipy.sparse import csr_matrix\n",
    "\n",
    "from implicit.als import AlternatingLeastSquares\n",
    "\n",
    "from surprise import Dataset, Reader\n",
    "import surprise.model_selection\n",
    "#from surprise.model_selection import cross_validate, GridSearchCV\n",
    "from surprise.prediction_algorithms import SVD, SVDpp, KNNBasic, KNNBaseline\n",
    "\n",
    "from catboost import CatBoostClassifier, CatBoostRanker, Pool\n",
    "\n",
    "from lightfm import LightFM\n",
    "from lightfm.evaluation import precision_at_k, recall_at_k\n",
    "\n",
    "from tqdm import tqdm\n",
    "\n",
    "import itertools\n",
    "\n",
    "import optuna"
   ]
  },
  {
   "cell_type": "code",
   "execution_count": null,
   "id": "588ecde0-07fe-4e0a-a31c-2020a3218b1d",
   "metadata": {},
   "outputs": [],
   "source": [
    "events = pd.read_csv('events.csv')\n",
    "user_ids = np.arange(6040)\n",
    "item_ids = np.arange(3706)\n",
    "combinations = list(itertools.product(user_ids, item_ids))\n",
    "data_for_pred = pd.DataFrame(combinations, columns=['user_id', 'item_id'])"
   ]
  },
  {
   "cell_type": "code",
   "execution_count": 92,
   "id": "62510cdd-50bc-4f16-844d-30738e681805",
   "metadata": {},
   "outputs": [
    {
     "name": "stdout",
     "output_type": "stream",
     "text": [
      "time: 565 ms (started: 2024-10-25 06:46:52 +07:00)\n"
     ]
    }
   ],
   "source": [
    "reader = Reader(rating_scale=(1, 5))\n",
    "surprise_data = Dataset.load_from_df(events[['user_id', 'item_id', 'rating']], reader)\n",
    "\n",
    "trainset = surprise_data.build_full_trainset()"
   ]
  },
  {
   "cell_type": "code",
   "execution_count": 93,
   "id": "b045a8d4-f81b-4241-a0a4-918f8b5b9a94",
   "metadata": {},
   "outputs": [
    {
     "data": {
      "text/plain": [
       "<surprise.prediction_algorithms.matrix_factorization.SVDpp at 0x48f5b9a10>"
      ]
     },
     "execution_count": 93,
     "metadata": {},
     "output_type": "execute_result"
    },
    {
     "name": "stdout",
     "output_type": "stream",
     "text": [
      "time: 2min 13s (started: 2024-10-25 06:46:54 +07:00)\n"
     ]
    }
   ],
   "source": [
    "svd_model = SVDpp(n_factors = 50, reg_all = 0.05, n_epochs=10)\n",
    "svd_model.fit(trainset)"
   ]
  },
  {
   "cell_type": "code",
   "execution_count": 104,
   "id": "937eff1c-7e51-42a7-b165-2948287b9a0d",
   "metadata": {},
   "outputs": [
    {
     "name": "stderr",
     "output_type": "stream",
     "text": [
      "100%|██████████| 22384240/22384240 [35:57<00:00, 10373.42it/s] "
     ]
    },
    {
     "name": "stdout",
     "output_type": "stream",
     "text": [
      "time: 35min 57s (started: 2024-10-25 06:52:32 +07:00)\n"
     ]
    },
    {
     "name": "stderr",
     "output_type": "stream",
     "text": [
      "\n"
     ]
    }
   ],
   "source": [
    "tqdm.pandas()\n",
    "data_for_pred['svd_score'] = data_for_pred.progress_apply(lambda row: svd_model.predict(row['user_id'], row['item_id']).est, axis=1)"
   ]
  },
  {
   "cell_type": "code",
   "execution_count": 107,
   "id": "4b7d7e2d-463b-49d5-8d67-c9e07644900d",
   "metadata": {},
   "outputs": [
    {
     "name": "stdout",
     "output_type": "stream",
     "text": [
      "RMSE SVDpp-модели: 0.8823\n",
      "MAE SVDpp-модели: 0.6971\n",
      "time: 6min 28s (started: 2024-10-25 07:29:09 +07:00)\n"
     ]
    }
   ],
   "source": [
    "cv_svd_basic = surprise.model_selection.cross_validate(svd_model, surprise_data, n_jobs=-1)\n",
    "print(f\"RMSE SVDpp-модели: {np.round(np.mean(cv_svd_basic['test_rmse']), 4)}\")\n",
    "print(f\"MAE SVDpp-модели: {np.round(np.mean(cv_svd_basic['test_mae']), 4)}\")"
   ]
  },
  {
   "cell_type": "code",
   "execution_count": 108,
   "id": "46dabdce-99d1-4e8c-b62d-f6e395fde890",
   "metadata": {},
   "outputs": [
    {
     "name": "stdout",
     "output_type": "stream",
     "text": [
      "RMSE user-based kNN-модели: 0.9779\n",
      "MAE user-based kNN-модели: 0.7724\n",
      "time: 3min 45s (started: 2024-10-25 07:35:38 +07:00)\n"
     ]
    }
   ],
   "source": [
    "sim_options_user = {'name': 'cosine', 'user_based': True}\n",
    "\n",
    "model_knn_user = KNNBasic(sim_options=sim_options_user, verbose=0)\n",
    "model_knn_user.fit(trainset)\n",
    "\n",
    "cv_knn_basic = surprise.model_selection.cross_validate(model_knn_user, surprise_data, n_jobs=-1)\n",
    "print(f\"RMSE user-based kNN-модели: {np.round(np.mean(cv_knn_basic['test_rmse']), 4)}\")\n",
    "print(f\"MAE user-based kNN-модели: {np.round(np.mean(cv_knn_basic['test_mae']), 4)}\")"
   ]
  },
  {
   "cell_type": "code",
   "execution_count": 109,
   "id": "f1a377d2-b4a0-40cd-b3b4-f2aa84164e36",
   "metadata": {},
   "outputs": [
    {
     "name": "stdout",
     "output_type": "stream",
     "text": [
      "RMSE item-based kNN-модели: 1.001\n",
      "MAE item-based kNN-модели: 0.7833\n",
      "time: 1min 23s (started: 2024-10-25 07:39:23 +07:00)\n"
     ]
    }
   ],
   "source": [
    "sim_options_item = {'name': 'cosine', 'user_based': False}\n",
    "\n",
    "model_knn_item = KNNBasic(sim_options=sim_options_item, verbose=0)\n",
    "model_knn_item.fit(trainset)\n",
    "\n",
    "cv_knn_basic = surprise.model_selection.cross_validate(model_knn_item, surprise_data, n_jobs=-1)\n",
    "print(f\"RMSE item-based kNN-модели: {np.round(np.mean(cv_knn_basic['test_rmse']), 4)}\")\n",
    "print(f\"MAE item-based kNN-модели: {np.round(np.mean(cv_knn_basic['test_mae']), 4)}\")"
   ]
  },
  {
   "cell_type": "code",
   "execution_count": 110,
   "id": "4c6b94ad-b9b6-4972-92fa-cb2dece2e511",
   "metadata": {},
   "outputs": [
    {
     "name": "stdout",
     "output_type": "stream",
     "text": [
      "time: 10.7 s (started: 2024-10-25 07:40:46 +07:00)\n"
     ]
    }
   ],
   "source": [
    "user_neighbors_dict = {}\n",
    "for user_id in np.arange(6040):\n",
    "    try:\n",
    "        inner_user_id = trainset.to_inner_uid(user_id)  \n",
    "        user_neighbors_dict[user_id] = model_knn_user.get_neighbors(inner_user_id, k=5)\n",
    "    except ValueError:\n",
    "        user_neighbors_dict[user_id] = [] \n",
    "\n",
    "def calculate_avg_neighbor_ratings():\n",
    "    user_neighbor_ratings = {}\n",
    "\n",
    "    for user_id in tqdm(np.arange(6040)):\n",
    "        neighbors = [trainset.to_raw_uid(n) for n in user_neighbors_dict[user_id]]  \n",
    "        neighbor_ratings = events[events['user_id'].isin(neighbors)]\n",
    "\n",
    "        for item_id in np.arange(3706):\n",
    "            ratings = neighbor_ratings[neighbor_ratings['item_id'] == item_id]['rating']\n",
    "            user_neighbor_ratings[(user_id, item_id)] = ratings.mean() if len(ratings) > 0 else np.nan\n",
    "    \n",
    "    return user_neighbor_ratings"
   ]
  },
  {
   "cell_type": "code",
   "execution_count": 111,
   "id": "12efa7f6-0508-4248-a915-ca209158c860",
   "metadata": {},
   "outputs": [
    {
     "name": "stdout",
     "output_type": "stream",
     "text": [
      "time: 3.99 s (started: 2024-10-25 07:40:57 +07:00)\n"
     ]
    }
   ],
   "source": [
    "item_neighbors_dict = {}\n",
    "for item_id in np.arange(3706):\n",
    "    try:\n",
    "        inner_item_id = trainset.to_inner_iid(item_id)  \n",
    "        item_neighbors_dict[item_id] = model_knn_item.get_neighbors(inner_item_id, k=5)\n",
    "    except ValueError:\n",
    "        item_neighbors_dict[item_id] = []  \n",
    "\n",
    "def calculate_avg_similar_item_ratings():\n",
    "    item_similar_ratings = {}\n",
    "\n",
    "    for user_id in tqdm(np.arange(6040)):\n",
    "        user_ratings = events[events['user_id'] == user_id]\n",
    "\n",
    "        for item_id in np.arange(3706):\n",
    "            neighbors = [trainset.to_raw_iid(n) for n in item_neighbors_dict[item_id]]  \n",
    "            ratings = user_ratings[user_ratings['item_id'].isin(neighbors)]['rating']\n",
    "            item_similar_ratings[(user_id, item_id)] = ratings.mean() if len(ratings) > 0 else np.nan\n",
    "    \n",
    "    return item_similar_ratings"
   ]
  },
  {
   "cell_type": "code",
   "execution_count": 112,
   "id": "819720e8-e759-4d06-9ca9-b79a9510b364",
   "metadata": {},
   "outputs": [
    {
     "name": "stderr",
     "output_type": "stream",
     "text": [
      "100%|██████████| 6040/6040 [39:51<00:00,  2.53it/s]\n",
      "100%|██████████| 6040/6040 [45:35<00:00,  2.21it/s]"
     ]
    },
    {
     "name": "stdout",
     "output_type": "stream",
     "text": [
      "time: 1h 25min 27s (started: 2024-10-25 07:41:01 +07:00)\n"
     ]
    },
    {
     "name": "stderr",
     "output_type": "stream",
     "text": [
      "\n"
     ]
    }
   ],
   "source": [
    "avg_neighbor_ratings = calculate_avg_neighbor_ratings()\n",
    "avg_similar_ratings = calculate_avg_similar_item_ratings()"
   ]
  },
  {
   "cell_type": "code",
   "execution_count": 113,
   "id": "eadd4ea6-8739-4aea-b9f3-564439f1a2ad",
   "metadata": {},
   "outputs": [
    {
     "name": "stdout",
     "output_type": "stream",
     "text": [
      "time: 3min 34s (started: 2024-10-25 09:06:28 +07:00)\n"
     ]
    }
   ],
   "source": [
    "import pickle \n",
    "\n",
    "with open('avg_neighbor_ratings.pkl', 'wb') as f:\n",
    "    pickle.dump(avg_neighbor_ratings, f)\n",
    "\n",
    "with open('avg_similar_ratings.pkl', 'wb') as f:\n",
    "    pickle.dump(avg_similar_ratings, f)"
   ]
  },
  {
   "cell_type": "code",
   "execution_count": 114,
   "id": "ff81cc40-11b7-482f-94cb-446faabe40f0",
   "metadata": {},
   "outputs": [
    {
     "name": "stderr",
     "output_type": "stream",
     "text": [
      "100%|██████████| 22384240/22384240 [03:03<00:00, 121778.82it/s]\n",
      "100%|██████████| 22384240/22384240 [03:05<00:00, 120953.67it/s]"
     ]
    },
    {
     "name": "stdout",
     "output_type": "stream",
     "text": [
      "time: 6min 9s (started: 2024-10-25 09:10:03 +07:00)\n"
     ]
    },
    {
     "name": "stderr",
     "output_type": "stream",
     "text": [
      "\n"
     ]
    }
   ],
   "source": [
    "tqdm.pandas()\n",
    "\n",
    "data_for_pred['avg_neighbor_rating'] = data_for_pred.progress_apply(lambda row: avg_neighbor_ratings.get((row['user_id'], row['item_id'])), axis=1)\n",
    "data_for_pred['avg_similar_item_rating'] = data_for_pred.progress_apply(lambda row: avg_similar_ratings.get((row['user_id'], row['item_id'])), axis=1)"
   ]
  },
  {
   "cell_type": "code",
   "execution_count": 115,
   "id": "4105231b-2aca-44ad-8dd1-f764ef26a16c",
   "metadata": {},
   "outputs": [
    {
     "name": "stdout",
     "output_type": "stream",
     "text": [
      "time: 50.9 s (started: 2024-10-25 09:16:12 +07:00)\n"
     ]
    }
   ],
   "source": [
    "data_for_pred[['user_id', 'item_id', 'svd_score', 'avg_neighbor_rating', 'avg_similar_item_rating']].to_csv('surprise_scores.csv', index = False)"
   ]
  }
 ],
 "metadata": {
  "kernelspec": {
   "display_name": "Python 3 (ipykernel)",
   "language": "python",
   "name": "python3"
  },
  "language_info": {
   "codemirror_mode": {
    "name": "ipython",
    "version": 3
   },
   "file_extension": ".py",
   "mimetype": "text/x-python",
   "name": "python",
   "nbconvert_exporter": "python",
   "pygments_lexer": "ipython3",
   "version": "3.11.10"
  }
 },
 "nbformat": 4,
 "nbformat_minor": 5
}
